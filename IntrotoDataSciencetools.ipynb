{
  "metadata": {
    "kernelspec": {
      "name": "python",
      "display_name": "Python (Pyodide)",
      "language": "python"
    },
    "language_info": {
      "codemirror_mode": {
        "name": "python",
        "version": 3
      },
      "file_extension": ".py",
      "mimetype": "text/x-python",
      "name": "python",
      "nbconvert_exporter": "python",
      "pygments_lexer": "ipython3",
      "version": "3.8"
    }
  },
  "nbformat_minor": 4,
  "nbformat": 4,
  "cells": [
    {
      "cell_type": "markdown",
      "source": "# Introduction to Data Science Tools\n",
      "metadata": {
        "tags": [],
        "editable": true,
        "slideshow": {
          "slide_type": ""
        }
      }
    },
    {
      "cell_type": "markdown",
      "source": "# Author\nShatha Bootah\n",
      "metadata": {}
    },
    {
      "cell_type": "markdown",
      "source": "# Objectives\nFor this project we have the following objectives: \n\n1. Demonstrate understanding of data science languages.\n2. Showcase knowledge of data science libraries and tools.\n3. Perform basic arithmetic operations.\n4. Convert time units.\n5. Share the Jupyter Notebook through GitHub.\n",
      "metadata": {}
    },
    {
      "cell_type": "markdown",
      "source": "# Introduction\nThis Jupyter Notebook is the final project for the data science course. In this project, you will understand various data science concepts and tools.\n",
      "metadata": {}
    },
    {
      "cell_type": "markdown",
      "source": "# Data Science Languages\nHere are some of the most popular data science programming languages:\n   \n   1. Python\n   2. R\n   3. Java\n   4. Scala\n   5. Julia",
      "metadata": {}
    },
    {
      "cell_type": "markdown",
      "source": "# Data Science Libraries \nSome of the most widely used dara science libraries include:\n1. NumPy\n2. Pandas\n3. Matplotlib\n4. Scikit-learn\n5. TensorFlow\n6. Keras\n",
      "metadata": {},
      "attachments": {}
    },
    {
      "cell_type": "markdown",
      "source": "# Data Science Tools\n| Tool | Description |\n| --- | --- |\n| Jupyter Notebook | Interactive computing environment |\n| RStudio | Integrated development environment (IDE) for R |\n| Apache Spark | Distributed computing system for big data processing |\n| Tableau | Data visualization and business intelligence tool |\n| MongoDB | NoSQL database for handling unstructured data |\n",
      "metadata": {}
    },
    {
      "cell_type": "markdown",
      "source": "# Arithmetic Expressions\n\nIn the following cells, we will explore some basic arithmetic operations.\n",
      "metadata": {}
    },
    {
      "cell_type": "code",
      "source": "a = 5\nb = 10\nc = a * b\nd = a + b\nprint(f\"The product of {a} and {b} is {c}\")\nprint(f\"The sum of {a} and {b} is {d}\")\n",
      "metadata": {
        "trusted": true
      },
      "outputs": [
        {
          "name": "stdout",
          "text": "The product of 5 and 10 is 50\nThe sum of 5 and 10 is 15\n",
          "output_type": "stream"
        }
      ],
      "execution_count": 1
    },
    {
      "cell_type": "code",
      "source": "minutes = 180\nhours = minutes // 60\nprint(f\"{minutes} minutes is equal to {hours} hours.\")\n",
      "metadata": {
        "trusted": true
      },
      "outputs": [
        {
          "name": "stdout",
          "text": "180 minutes is equal to 3 hours.\n",
          "output_type": "stream"
        }
      ],
      "execution_count": 2
    }
  ]
}